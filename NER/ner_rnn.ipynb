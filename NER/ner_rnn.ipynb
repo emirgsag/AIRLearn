{
  "nbformat": 4,
  "nbformat_minor": 0,
  "metadata": {
    "colab": {
      "provenance": [],
      "authorship_tag": "ABX9TyNNXVh/RDzgk8haH9kV2a1d",
      "include_colab_link": true
    },
    "kernelspec": {
      "name": "python3",
      "display_name": "Python 3"
    },
    "language_info": {
      "name": "python"
    }
  },
  "cells": [
    {
      "cell_type": "markdown",
      "metadata": {
        "id": "view-in-github",
        "colab_type": "text"
      },
      "source": [
        "<a href=\"https://colab.research.google.com/github/emirgsag/AIRLearn/blob/main/NER/ner_rnn.ipynb\" target=\"_parent\"><img src=\"https://colab.research.google.com/assets/colab-badge.svg\" alt=\"Open In Colab\"/></a>"
      ]
    },
    {
      "cell_type": "code",
      "execution_count": 1,
      "metadata": {
        "id": "fqbq0X-rIDjM"
      },
      "outputs": [],
      "source": [
        "import pickle"
      ]
    },
    {
      "cell_type": "code",
      "source": [
        "!wget -nc https://lazyprogrammer.me/course_files/nlp/ner_train.pkl\n",
        "!wget -nc https://lazyprogrammer.me/course_files/nlp/ner_test.pkl"
      ],
      "metadata": {
        "colab": {
          "base_uri": "https://localhost:8080/"
        },
        "id": "8I8xBej-Q9Nr",
        "outputId": "990a3498-9e52-4a66-bc8b-e8890ef193df"
      },
      "execution_count": 2,
      "outputs": [
        {
          "output_type": "stream",
          "name": "stdout",
          "text": [
            "--2024-03-26 10:25:45--  https://lazyprogrammer.me/course_files/nlp/ner_train.pkl\n",
            "Resolving lazyprogrammer.me (lazyprogrammer.me)... 104.21.23.210, 172.67.213.166, 2606:4700:3031::6815:17d2, ...\n",
            "Connecting to lazyprogrammer.me (lazyprogrammer.me)|104.21.23.210|:443... connected.\n",
            "HTTP request sent, awaiting response... 200 OK\n",
            "Length: 4757208 (4.5M) [application/octet-stream]\n",
            "Saving to: ‘ner_train.pkl’\n",
            "\n",
            "ner_train.pkl       100%[===================>]   4.54M  3.62MB/s    in 1.3s    \n",
            "\n",
            "2024-03-26 10:25:47 (3.62 MB/s) - ‘ner_train.pkl’ saved [4757208/4757208]\n",
            "\n",
            "--2024-03-26 10:25:47--  https://lazyprogrammer.me/course_files/nlp/ner_test.pkl\n",
            "Resolving lazyprogrammer.me (lazyprogrammer.me)... 104.21.23.210, 172.67.213.166, 2606:4700:3031::6815:17d2, ...\n",
            "Connecting to lazyprogrammer.me (lazyprogrammer.me)|104.21.23.210|:443... connected.\n",
            "HTTP request sent, awaiting response... 200 OK\n",
            "Length: 1201978 (1.1M) [application/octet-stream]\n",
            "Saving to: ‘ner_test.pkl’\n",
            "\n",
            "ner_test.pkl        100%[===================>]   1.15M  2.55MB/s    in 0.4s    \n",
            "\n",
            "2024-03-26 10:25:48 (2.55 MB/s) - ‘ner_test.pkl’ saved [1201978/1201978]\n",
            "\n"
          ]
        }
      ]
    },
    {
      "cell_type": "code",
      "source": [
        "with open('ner_train.pkl', 'rb') as f:\n",
        "  corpus_train = pickle.load(f)\n",
        "\n",
        "with open('ner_test.pkl', 'rb') as f:\n",
        "  corpus_test = pickle.load(f)"
      ],
      "metadata": {
        "id": "HrmF7h2zRC7P"
      },
      "execution_count": 4,
      "outputs": []
    },
    {
      "cell_type": "code",
      "source": [
        "print(corpus_train[0], corpus_train[1])"
      ],
      "metadata": {
        "colab": {
          "base_uri": "https://localhost:8080/"
        },
        "id": "Viunc7nERa1Y",
        "outputId": "6a345561-a710-4fa0-f4fa-a8f4651ae44b"
      },
      "execution_count": 12,
      "outputs": [
        {
          "output_type": "stream",
          "name": "stdout",
          "text": [
            "[('EU', 'B-ORG'), ('rejects', 'O'), ('German', 'B-MISC'), ('call', 'O'), ('to', 'O'), ('boycott', 'O'), ('British', 'B-MISC'), ('lamb', 'O'), ('.', 'O')] [('The', 'O'), ('European', 'B-ORG'), ('Commission', 'I-ORG'), ('said', 'O'), ('on', 'O'), ('Thursday', 'O'), ('it', 'O'), ('disagreed', 'O'), ('with', 'O'), ('German', 'B-MISC'), ('advice', 'O'), ('to', 'O'), ('consumers', 'O'), ('to', 'O'), ('shun', 'O'), ('British', 'B-MISC'), ('lamb', 'O'), ('until', 'O'), ('scientists', 'O'), ('determine', 'O'), ('whether', 'O'), ('mad', 'O'), ('cow', 'O'), ('disease', 'O'), ('can', 'O'), ('be', 'O'), ('transmitted', 'O'), ('to', 'O'), ('sheep', 'O'), ('.', 'O')]\n"
          ]
        }
      ]
    },
    {
      "cell_type": "code",
      "source": [
        "print(corpus_test[3])"
      ],
      "metadata": {
        "colab": {
          "base_uri": "https://localhost:8080/"
        },
        "id": "IjRiCXVLRVXd",
        "outputId": "c1d3b5e9-96b5-4cba-c701-fc10b08a2e91"
      },
      "execution_count": 13,
      "outputs": [
        {
          "output_type": "stream",
          "name": "stdout",
          "text": [
            "[('After', 'O'), ('bowling', 'O'), ('Somerset', 'B-ORG'), ('out', 'O'), ('for', 'O'), ('83', 'O'), ('on', 'O'), ('the', 'O'), ('opening', 'O'), ('morning', 'O'), ('at', 'O'), ('Grace', 'B-LOC'), ('Road', 'I-LOC'), (',', 'O'), ('Leicestershire', 'B-ORG'), ('extended', 'O'), ('their', 'O'), ('first', 'O'), ('innings', 'O'), ('by', 'O'), ('94', 'O'), ('runs', 'O'), ('before', 'O'), ('being', 'O'), ('bowled', 'O'), ('out', 'O'), ('for', 'O'), ('296', 'O'), ('with', 'O'), ('England', 'B-LOC'), ('discard', 'O'), ('Andy', 'B-PER'), ('Caddick', 'I-PER'), ('taking', 'O'), ('three', 'O'), ('for', 'O'), ('83', 'O'), ('.', 'O')]\n"
          ]
        }
      ]
    },
    {
      "cell_type": "code",
      "source": [
        "train_inputs = []\n",
        "train_targets = []\n",
        "for sentence_tag_pairs in corpus_train:\n",
        "  tokens = []\n",
        "  target = []\n",
        "  for token, tag in sentence_tag_pairs:\n",
        "    tokens.append(token)\n",
        "    target.append(tag)\n",
        "  train_inputs.append(tokens)\n",
        "  train_targets.append(target)"
      ],
      "metadata": {
        "id": "Ow9tIT63VZyX"
      },
      "execution_count": 14,
      "outputs": []
    },
    {
      "cell_type": "code",
      "source": [
        "train_inputs[0]"
      ],
      "metadata": {
        "colab": {
          "base_uri": "https://localhost:8080/"
        },
        "id": "f8yDFASgVejQ",
        "outputId": "d47507cd-88b4-42fa-ef92-f602626a2313"
      },
      "execution_count": 22,
      "outputs": [
        {
          "output_type": "execute_result",
          "data": {
            "text/plain": [
              "['EU', 'rejects', 'German', 'call', 'to', 'boycott', 'British', 'lamb', '.']"
            ]
          },
          "metadata": {},
          "execution_count": 22
        }
      ]
    },
    {
      "cell_type": "code",
      "source": [
        "train_targets[0]"
      ],
      "metadata": {
        "colab": {
          "base_uri": "https://localhost:8080/"
        },
        "id": "rdlroQA8VpFB",
        "outputId": "649de59b-7d02-424f-a278-9d2acbcadb92"
      },
      "execution_count": 18,
      "outputs": [
        {
          "output_type": "execute_result",
          "data": {
            "text/plain": [
              "['B-ORG', 'O', 'B-MISC', 'O', 'O', 'O', 'B-MISC', 'O', 'O']"
            ]
          },
          "metadata": {},
          "execution_count": 18
        }
      ]
    },
    {
      "cell_type": "code",
      "source": [
        "test_inputs = []\n",
        "test_targets = []\n",
        "for sentence_tag_pairs in corpus_test:\n",
        "  tokens = []\n",
        "  target = []\n",
        "  for token, tag in sentence_tag_pairs:\n",
        "    tokens.append(token)\n",
        "    target.append(tag)\n",
        "  test_inputs.append(tokens)\n",
        "  test_targets.append(target)"
      ],
      "metadata": {
        "id": "5rAngw3ZVzmJ"
      },
      "execution_count": 19,
      "outputs": []
    },
    {
      "cell_type": "code",
      "source": [
        "test_inputs[0]"
      ],
      "metadata": {
        "colab": {
          "base_uri": "https://localhost:8080/"
        },
        "id": "KFjlLbCVV3q5",
        "outputId": "7ee7ca89-86dd-470d-db1f-5eccc8e7ffee"
      },
      "execution_count": 24,
      "outputs": [
        {
          "output_type": "execute_result",
          "data": {
            "text/plain": [
              "['CRICKET',\n",
              " '-',\n",
              " 'LEICESTERSHIRE',\n",
              " 'TAKE',\n",
              " 'OVER',\n",
              " 'AT',\n",
              " 'TOP',\n",
              " 'AFTER',\n",
              " 'INNINGS',\n",
              " 'VICTORY',\n",
              " '.']"
            ]
          },
          "metadata": {},
          "execution_count": 24
        }
      ]
    },
    {
      "cell_type": "code",
      "source": [
        "test_targets[0]"
      ],
      "metadata": {
        "colab": {
          "base_uri": "https://localhost:8080/"
        },
        "id": "xMuIPuA0V8kT",
        "outputId": "a3694458-cda4-4660-98e5-ef2cc469b63d"
      },
      "execution_count": 21,
      "outputs": [
        {
          "output_type": "execute_result",
          "data": {
            "text/plain": [
              "['O', 'O', 'B-ORG', 'O', 'O', 'O', 'O', 'O', 'O', 'O', 'O']"
            ]
          },
          "metadata": {},
          "execution_count": 21
        }
      ]
    },
    {
      "cell_type": "code",
      "source": [
        "import numpy as np\n",
        "import pandas as pd\n",
        "import tensorflow as tf\n",
        "import matplotlib.pyplot as plt\n",
        "from sklearn.model_selection import train_test_split\n",
        "\n",
        "from tensorflow.keras.preprocessing.text import Tokenizer\n",
        "from tensorflow.keras.preprocessing.sequence import pad_sequences\n",
        "from tensorflow.keras.layers import Dense, Input, Bidirectional\n",
        "from tensorflow.keras.layers import LSTM, GRU, SimpleRNN, Embedding\n",
        "from tensorflow.keras.models import Model\n",
        "from tensorflow.keras.losses import SparseCategoricalCrossentropy"
      ],
      "metadata": {
        "id": "6MX1vk8YhUFE"
      },
      "execution_count": 25,
      "outputs": []
    },
    {
      "cell_type": "code",
      "source": [
        "MAX_VOCAB_SIZE = None\n",
        "\n",
        "# capitalization might be useful - test it\n",
        "should_lowercase = False\n",
        "word_tokenizer = Tokenizer(\n",
        "    num_words=MAX_VOCAB_SIZE,\n",
        "    lower=should_lowercase,\n",
        "    oov_token='UNK',\n",
        ")\n",
        "# otherwise unknown tokens will be removed and len(input) != len(target)\n",
        "# input words and target words will not be aligned!"
      ],
      "metadata": {
        "id": "Z7APOUwfWRZ1"
      },
      "execution_count": 26,
      "outputs": []
    },
    {
      "cell_type": "code",
      "source": [
        "# it's ok to \"fit\" on the whole corpus - it just means some embeddings\n",
        "# won't be trained\n",
        "# this is because for the test set, any unknown tokens will be removed\n",
        "# which will change the length of the input (***CHECK)\n",
        "\n",
        "word_tokenizer.fit_on_texts(train_inputs)\n",
        "train_inputs_int = word_tokenizer.texts_to_sequences(train_inputs)\n",
        "test_inputs_int = word_tokenizer.texts_to_sequences(test_inputs)"
      ],
      "metadata": {
        "id": "SPL_oUHZhcwi"
      },
      "execution_count": 27,
      "outputs": []
    },
    {
      "cell_type": "code",
      "source": [
        "# get word -> integer mapping\n",
        "word2idx = word_tokenizer.word_index\n",
        "V = len(word2idx)\n",
        "print('Found %s unique tokens.' % V)"
      ],
      "metadata": {
        "colab": {
          "base_uri": "https://localhost:8080/"
        },
        "id": "vrDsSAb3hfO0",
        "outputId": "212c5dbe-c813-4377-e569-decfecc5e1f4"
      },
      "execution_count": 28,
      "outputs": [
        {
          "output_type": "stream",
          "name": "stdout",
          "text": [
            "Found 23299 unique tokens.\n"
          ]
        }
      ]
    },
    {
      "cell_type": "code",
      "source": [
        "# https://stackoverflow.com/questions/11264684/flatten-list-of-lists\n",
        "def flatten(list_of_lists):\n",
        "  flattened = [val for sublist in list_of_lists for val in sublist]\n",
        "  return flattened"
      ],
      "metadata": {
        "id": "o2F44jAkhhx3"
      },
      "execution_count": 29,
      "outputs": []
    },
    {
      "cell_type": "code",
      "source": [
        "all_train_targets = set(flatten(train_targets))\n",
        "all_test_targets = set(flatten(test_targets))\n",
        "print(all_train_targets == all_test_targets)"
      ],
      "metadata": {
        "colab": {
          "base_uri": "https://localhost:8080/"
        },
        "id": "hJlfVQ7Whn5N",
        "outputId": "cca101b5-03f8-4468-bce6-3931ead784be"
      },
      "execution_count": 30,
      "outputs": [
        {
          "output_type": "stream",
          "name": "stdout",
          "text": [
            "True\n"
          ]
        }
      ]
    },
    {
      "cell_type": "code",
      "source": [
        "# Convert targets to sequences\n",
        "tag_tokenizer = Tokenizer()\n",
        "tag_tokenizer.fit_on_texts(train_targets)\n",
        "train_targets_int = tag_tokenizer.texts_to_sequences(train_targets)\n",
        "test_targets_int = tag_tokenizer.texts_to_sequences(test_targets)\n",
        "\n",
        "# save for later\n",
        "train_targets_int_unpadded = train_targets_int\n",
        "test_targets_int_unpadded = test_targets_int"
      ],
      "metadata": {
        "id": "2BqUIwOlh9Or"
      },
      "execution_count": 31,
      "outputs": []
    },
    {
      "cell_type": "code",
      "source": [
        "maxlen_train = max(len(sent) for sent in train_inputs)\n",
        "maxlen_test = max(len(sent) for sent in test_inputs)\n",
        "T = max((maxlen_train, maxlen_test))"
      ],
      "metadata": {
        "id": "MswMTi4RleJJ"
      },
      "execution_count": 32,
      "outputs": []
    },
    {
      "cell_type": "code",
      "source": [
        "# pad sequences so that we get a N x T matrix\n",
        "train_inputs_int = pad_sequences(train_inputs_int, maxlen=T)\n",
        "print('Shape of data train tensor:', train_inputs_int.shape)\n",
        "\n",
        "test_inputs_int = pad_sequences(test_inputs_int, maxlen=T)\n",
        "print('Shape of data test tensor:', test_inputs_int.shape)\n",
        "\n",
        "train_targets_int = pad_sequences(train_targets_int, maxlen=T)\n",
        "print('Shape of train targets tensor:', train_targets_int.shape)\n",
        "\n",
        "test_targets_int = pad_sequences(test_targets_int, maxlen=T)\n",
        "print('Shape of test targets tensor:', test_targets_int.shape)"
      ],
      "metadata": {
        "colab": {
          "base_uri": "https://localhost:8080/"
        },
        "id": "obTWKSaVl27y",
        "outputId": "68c195c2-fa27-4b5f-bb42-ed95e7523709"
      },
      "execution_count": 33,
      "outputs": [
        {
          "output_type": "stream",
          "name": "stdout",
          "text": [
            "Shape of data train tensor: (12733, 113)\n",
            "Shape of data test tensor: (2970, 113)\n",
            "Shape of train targets tensor: (12733, 113)\n",
            "Shape of test targets tensor: (2970, 113)\n"
          ]
        }
      ]
    },
    {
      "cell_type": "code",
      "source": [
        "print(train_targets_int_unpadded[0])\n",
        "print(train_targets_int[0])"
      ],
      "metadata": {
        "colab": {
          "base_uri": "https://localhost:8080/"
        },
        "id": "EKA6TFm9mCHM",
        "outputId": "0b32dd9f-7b07-4772-9eb3-b73f05689639"
      },
      "execution_count": 34,
      "outputs": [
        {
          "output_type": "stream",
          "name": "stdout",
          "text": [
            "[4, 1, 7, 1, 1, 1, 7, 1, 1]\n",
            "[0 0 0 0 0 0 0 0 0 0 0 0 0 0 0 0 0 0 0 0 0 0 0 0 0 0 0 0 0 0 0 0 0 0 0 0 0\n",
            " 0 0 0 0 0 0 0 0 0 0 0 0 0 0 0 0 0 0 0 0 0 0 0 0 0 0 0 0 0 0 0 0 0 0 0 0 0\n",
            " 0 0 0 0 0 0 0 0 0 0 0 0 0 0 0 0 0 0 0 0 0 0 0 0 0 0 0 0 0 0 4 1 7 1 1 1 7\n",
            " 1 1]\n"
          ]
        }
      ]
    },
    {
      "cell_type": "code",
      "source": [
        "tag_tokenizer.word_index"
      ],
      "metadata": {
        "colab": {
          "base_uri": "https://localhost:8080/"
        },
        "id": "i13psBPYmyvy",
        "outputId": "9e75cedd-c883-44fe-dc76-dcb50847c1b8"
      },
      "execution_count": 37,
      "outputs": [
        {
          "output_type": "execute_result",
          "data": {
            "text/plain": [
              "{'o': 1,\n",
              " 'b-per': 2,\n",
              " 'b-loc': 3,\n",
              " 'b-org': 4,\n",
              " 'i-per': 5,\n",
              " 'i-org': 6,\n",
              " 'b-misc': 7,\n",
              " 'i-loc': 8,\n",
              " 'i-misc': 9}"
            ]
          },
          "metadata": {},
          "execution_count": 37
        }
      ]
    },
    {
      "cell_type": "code",
      "source": [
        "K = len(tag_tokenizer.word_index) + 1"
      ],
      "metadata": {
        "id": "Jv07oABxm84o"
      },
      "execution_count": 38,
      "outputs": []
    },
    {
      "cell_type": "code",
      "source": [
        "D = 32\n",
        "\n",
        "i = Input(shape=(T,))\n",
        "# mask_zero=True way slower on GPU than CPU!\n",
        "x = Embedding(V + 1, D, mask_zero=True)(i)\n",
        "x = Bidirectional(LSTM(32, return_sequences=True))(x)\n",
        "# x = SimpleRNN(32, return_sequences=True)(x)\n",
        "x = Dense(K)(x)\n",
        "\n",
        "model = Model(i, x)"
      ],
      "metadata": {
        "id": "1SPmdm3Ym92Y"
      },
      "execution_count": 39,
      "outputs": []
    },
    {
      "cell_type": "code",
      "source": [
        "# Compile and fit\n",
        "model.compile(\n",
        "  loss=SparseCategoricalCrossentropy(from_logits=True),\n",
        "  optimizer='adam',\n",
        "  metrics=['accuracy']\n",
        ")\n",
        "\n",
        "# 60s per epoch on CPU\n",
        "\n",
        "print('Training model...')\n",
        "r = model.fit(\n",
        "  train_inputs_int,\n",
        "  train_targets_int,\n",
        "  epochs=5,\n",
        "  validation_data=(test_inputs_int, test_targets_int)\n",
        ")"
      ],
      "metadata": {
        "colab": {
          "base_uri": "https://localhost:8080/"
        },
        "id": "aKlLb10pnIe-",
        "outputId": "ab5c3052-c0e5-4f5b-fc64-28272e2ed326"
      },
      "execution_count": 40,
      "outputs": [
        {
          "output_type": "stream",
          "name": "stdout",
          "text": [
            "Training model...\n",
            "Epoch 1/5\n",
            "398/398 [==============================] - 70s 149ms/step - loss: 0.7249 - accuracy: 0.8371 - val_loss: 0.4871 - val_accuracy: 0.8624\n",
            "Epoch 2/5\n",
            "398/398 [==============================] - 55s 139ms/step - loss: 0.3061 - accuracy: 0.9009 - val_loss: 0.3221 - val_accuracy: 0.9099\n",
            "Epoch 3/5\n",
            "398/398 [==============================] - 55s 139ms/step - loss: 0.1771 - accuracy: 0.9464 - val_loss: 0.2442 - val_accuracy: 0.9397\n",
            "Epoch 4/5\n",
            "398/398 [==============================] - 56s 141ms/step - loss: 0.0952 - accuracy: 0.9760 - val_loss: 0.2050 - val_accuracy: 0.9490\n",
            "Epoch 5/5\n",
            "398/398 [==============================] - 55s 138ms/step - loss: 0.0559 - accuracy: 0.9872 - val_loss: 0.1919 - val_accuracy: 0.9520\n"
          ]
        }
      ]
    },
    {
      "cell_type": "code",
      "source": [
        "# Plot loss per iteration\n",
        "plt.plot(r.history['loss'], label='train loss')\n",
        "plt.plot(r.history['val_loss'], label='val loss')\n",
        "plt.legend();"
      ],
      "metadata": {
        "colab": {
          "base_uri": "https://localhost:8080/",
          "height": 430
        },
        "id": "AWSRNCRyp9vi",
        "outputId": "ffb51954-9051-4e80-c096-bc580f3841c5"
      },
      "execution_count": 41,
      "outputs": [
        {
          "output_type": "display_data",
          "data": {
            "text/plain": [
              "<Figure size 640x480 with 1 Axes>"
            ],
            "image/png": "[encoded data removed]"
          },
          "metadata": {}
        }
      ]
    },
    {
      "cell_type": "code",
      "source": [
        "# Plot accuracy per iteration\n",
        "plt.plot(r.history['accuracy'], label='train acc')\n",
        "plt.plot(r.history['val_accuracy'], label='val acc')\n",
        "plt.legend();"
      ],
      "metadata": {
        "colab": {
          "base_uri": "https://localhost:8080/",
          "height": 430
        },
        "id": "7jUHUcKS8x1x",
        "outputId": "c92acba3-d388-4acf-bf9b-28b3023e273a"
      },
      "execution_count": 42,
      "outputs": [
        {
          "output_type": "display_data",
          "data": {
            "text/plain": [
              "<Figure size 640x480 with 1 Axes>"
            ],
            "image/png": "[encoded data removed]"
          },
          "metadata": {}
        }
      ]
    },
    {
      "cell_type": "code",
      "source": [
        "# True model accuracy - above includes padding\n",
        "\n",
        "# first get length of each sequence\n",
        "train_lengths = []\n",
        "for sentence in train_inputs:\n",
        "  train_lengths.append(len(sentence))\n",
        "\n",
        "test_lengths = []\n",
        "for sentence in test_inputs:\n",
        "  test_lengths.append(len(sentence))"
      ],
      "metadata": {
        "id": "AWZV4VXP81GN"
      },
      "execution_count": 43,
      "outputs": []
    },
    {
      "cell_type": "code",
      "source": [
        "train_probs = model.predict(train_inputs_int) # N x T x K\n",
        "train_predictions = []\n",
        "for probs, length in zip(train_probs, train_lengths):\n",
        "  # probs is T x K\n",
        "  probs_ = probs[-length:]\n",
        "  preds = np.argmax(probs_, axis=1)\n",
        "  train_predictions.append(preds)\n",
        "\n",
        "# flatten\n",
        "flat_train_predictions = flatten(train_predictions)\n",
        "flat_train_targets = flatten(train_targets_int_unpadded)"
      ],
      "metadata": {
        "colab": {
          "base_uri": "https://localhost:8080/"
        },
        "id": "76g4YlZD88-8",
        "outputId": "6cda90c7-4e06-4657-8f3c-ad5356d0feb7"
      },
      "execution_count": 44,
      "outputs": [
        {
          "output_type": "stream",
          "name": "stdout",
          "text": [
            "398/398 [==============================] - 15s 29ms/step\n"
          ]
        }
      ]
    },
    {
      "cell_type": "code",
      "source": [
        "test_probs = model.predict(test_inputs_int) # N x T x K\n",
        "test_predictions = []\n",
        "for probs, length in zip(test_probs, test_lengths):\n",
        "  # probs is T x K\n",
        "  probs_ = probs[-length:]\n",
        "  preds = np.argmax(probs_, axis=1)\n",
        "  test_predictions.append(preds)\n",
        "\n",
        "# flatten\n",
        "flat_test_predictions = flatten(test_predictions)\n",
        "flat_test_targets = flatten(test_targets_int_unpadded)"
      ],
      "metadata": {
        "colab": {
          "base_uri": "https://localhost:8080/"
        },
        "id": "kFoqPzDH9FlY",
        "outputId": "7cec6360-4075-45c4-9b45-909d253620c3"
      },
      "execution_count": 45,
      "outputs": [
        {
          "output_type": "stream",
          "name": "stdout",
          "text": [
            "93/93 [==============================] - 5s 55ms/step\n"
          ]
        }
      ]
    },
    {
      "cell_type": "code",
      "source": [
        "from sklearn.metrics import accuracy_score, f1_score\n",
        "\n",
        "print(\"Train acc:\", accuracy_score(flat_train_targets, flat_train_predictions))\n",
        "print(\"Test acc:\", accuracy_score(flat_test_targets, flat_test_predictions))\n",
        "\n",
        "print(\"Train f1:\", f1_score(flat_train_targets, flat_train_predictions, average='macro'))\n",
        "print(\"Test f1:\", f1_score(flat_test_targets, flat_test_predictions, average='macro'))"
      ],
      "metadata": {
        "colab": {
          "base_uri": "https://localhost:8080/"
        },
        "id": "2QXkQhZf9TF3",
        "outputId": "4bf78c37-97f0-4bb8-8cfd-83508568427b"
      },
      "execution_count": 46,
      "outputs": [
        {
          "output_type": "stream",
          "name": "stdout",
          "text": [
            "Train acc: 0.9916245824717671\n",
            "Test acc: 0.9520239290001378\n",
            "Train f1: 0.933984948476433\n",
            "Test f1: 0.7906237245807242\n"
          ]
        }
      ]
    }
  ]
}