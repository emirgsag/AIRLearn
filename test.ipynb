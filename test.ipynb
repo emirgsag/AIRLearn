{
 "cells": [
  {
   "cell_type": "code",
   "execution_count": 6,
   "id": "d7dc37fe-8f25-4d98-8b7d-c7e422c527b0",
   "metadata": {},
   "outputs": [],
   "source": [
    "import pandas as pd\n",
    "import numpy as np\n",
    "import seaborn as sns"
   ]
  },
  {
   "cell_type": "code",
   "execution_count": 7,
   "id": "6ca319e6",
   "metadata": {},
   "outputs": [],
   "source": [
    "df = sns.load_dataset('planets')"
   ]
  },
  {
   "cell_type": "markdown",
   "id": "7be5373c",
   "metadata": {},
   "source": [
    "### Print/ Display the first 5 rows of dataframe"
   ]
  },
  {
   "cell_type": "code",
   "execution_count": 8,
   "id": "f57c2abf-fa5a-4b72-953f-3e63422dcdde",
   "metadata": {},
   "outputs": [
    {
     "data": {
      "text/html": [
       "<div>\n",
       "<style scoped>\n",
       "    .dataframe tbody tr th:only-of-type {\n",
       "        vertical-align: middle;\n",
       "    }\n",
       "\n",
       "    .dataframe tbody tr th {\n",
       "        vertical-align: top;\n",
       "    }\n",
       "\n",
       "    .dataframe thead th {\n",
       "        text-align: right;\n",
       "    }\n",
       "</style>\n",
       "<table border=\"1\" class=\"dataframe\">\n",
       "  <thead>\n",
       "    <tr style=\"text-align: right;\">\n",
       "      <th></th>\n",
       "      <th>method</th>\n",
       "      <th>number</th>\n",
       "      <th>orbital_period</th>\n",
       "      <th>mass</th>\n",
       "      <th>distance</th>\n",
       "      <th>year</th>\n",
       "    </tr>\n",
       "  </thead>\n",
       "  <tbody>\n",
       "    <tr>\n",
       "      <th>0</th>\n",
       "      <td>Radial Velocity</td>\n",
       "      <td>1</td>\n",
       "      <td>269.300</td>\n",
       "      <td>7.10</td>\n",
       "      <td>77.40</td>\n",
       "      <td>2006</td>\n",
       "    </tr>\n",
       "    <tr>\n",
       "      <th>1</th>\n",
       "      <td>Radial Velocity</td>\n",
       "      <td>1</td>\n",
       "      <td>874.774</td>\n",
       "      <td>2.21</td>\n",
       "      <td>56.95</td>\n",
       "      <td>2008</td>\n",
       "    </tr>\n",
       "    <tr>\n",
       "      <th>2</th>\n",
       "      <td>Radial Velocity</td>\n",
       "      <td>1</td>\n",
       "      <td>763.000</td>\n",
       "      <td>2.60</td>\n",
       "      <td>19.84</td>\n",
       "      <td>2011</td>\n",
       "    </tr>\n",
       "    <tr>\n",
       "      <th>3</th>\n",
       "      <td>Radial Velocity</td>\n",
       "      <td>1</td>\n",
       "      <td>326.030</td>\n",
       "      <td>19.40</td>\n",
       "      <td>110.62</td>\n",
       "      <td>2007</td>\n",
       "    </tr>\n",
       "    <tr>\n",
       "      <th>4</th>\n",
       "      <td>Radial Velocity</td>\n",
       "      <td>1</td>\n",
       "      <td>516.220</td>\n",
       "      <td>10.50</td>\n",
       "      <td>119.47</td>\n",
       "      <td>2009</td>\n",
       "    </tr>\n",
       "  </tbody>\n",
       "</table>\n",
       "</div>"
      ],
      "text/plain": [
       "            method  number  orbital_period   mass  distance  year\n",
       "0  Radial Velocity       1         269.300   7.10     77.40  2006\n",
       "1  Radial Velocity       1         874.774   2.21     56.95  2008\n",
       "2  Radial Velocity       1         763.000   2.60     19.84  2011\n",
       "3  Radial Velocity       1         326.030  19.40    110.62  2007\n",
       "4  Radial Velocity       1         516.220  10.50    119.47  2009"
      ]
     },
     "execution_count": 8,
     "metadata": {},
     "output_type": "execute_result"
    }
   ],
   "source": [
    "# your code here\n",
    "df.head()"
   ]
  },
  {
   "cell_type": "markdown",
   "id": "ae39f12a",
   "metadata": {},
   "source": [
    "### Print/ Display the last 5 rows of dataframe"
   ]
  },
  {
   "cell_type": "code",
   "execution_count": 9,
   "id": "4c27adad-ccd9-4871-8d81-dcc11c742dae",
   "metadata": {},
   "outputs": [
    {
     "data": {
      "text/html": [
       "<div>\n",
       "<style scoped>\n",
       "    .dataframe tbody tr th:only-of-type {\n",
       "        vertical-align: middle;\n",
       "    }\n",
       "\n",
       "    .dataframe tbody tr th {\n",
       "        vertical-align: top;\n",
       "    }\n",
       "\n",
       "    .dataframe thead th {\n",
       "        text-align: right;\n",
       "    }\n",
       "</style>\n",
       "<table border=\"1\" class=\"dataframe\">\n",
       "  <thead>\n",
       "    <tr style=\"text-align: right;\">\n",
       "      <th></th>\n",
       "      <th>method</th>\n",
       "      <th>number</th>\n",
       "      <th>orbital_period</th>\n",
       "      <th>mass</th>\n",
       "      <th>distance</th>\n",
       "      <th>year</th>\n",
       "    </tr>\n",
       "  </thead>\n",
       "  <tbody>\n",
       "    <tr>\n",
       "      <th>1030</th>\n",
       "      <td>Transit</td>\n",
       "      <td>1</td>\n",
       "      <td>3.941507</td>\n",
       "      <td>NaN</td>\n",
       "      <td>172.0</td>\n",
       "      <td>2006</td>\n",
       "    </tr>\n",
       "    <tr>\n",
       "      <th>1031</th>\n",
       "      <td>Transit</td>\n",
       "      <td>1</td>\n",
       "      <td>2.615864</td>\n",
       "      <td>NaN</td>\n",
       "      <td>148.0</td>\n",
       "      <td>2007</td>\n",
       "    </tr>\n",
       "    <tr>\n",
       "      <th>1032</th>\n",
       "      <td>Transit</td>\n",
       "      <td>1</td>\n",
       "      <td>3.191524</td>\n",
       "      <td>NaN</td>\n",
       "      <td>174.0</td>\n",
       "      <td>2007</td>\n",
       "    </tr>\n",
       "    <tr>\n",
       "      <th>1033</th>\n",
       "      <td>Transit</td>\n",
       "      <td>1</td>\n",
       "      <td>4.125083</td>\n",
       "      <td>NaN</td>\n",
       "      <td>293.0</td>\n",
       "      <td>2008</td>\n",
       "    </tr>\n",
       "    <tr>\n",
       "      <th>1034</th>\n",
       "      <td>Transit</td>\n",
       "      <td>1</td>\n",
       "      <td>4.187757</td>\n",
       "      <td>NaN</td>\n",
       "      <td>260.0</td>\n",
       "      <td>2008</td>\n",
       "    </tr>\n",
       "  </tbody>\n",
       "</table>\n",
       "</div>"
      ],
      "text/plain": [
       "       method  number  orbital_period  mass  distance  year\n",
       "1030  Transit       1        3.941507   NaN     172.0  2006\n",
       "1031  Transit       1        2.615864   NaN     148.0  2007\n",
       "1032  Transit       1        3.191524   NaN     174.0  2007\n",
       "1033  Transit       1        4.125083   NaN     293.0  2008\n",
       "1034  Transit       1        4.187757   NaN     260.0  2008"
      ]
     },
     "execution_count": 9,
     "metadata": {},
     "output_type": "execute_result"
    }
   ],
   "source": [
    "# your code here\n",
    "df.tail()"
   ]
  },
  {
   "cell_type": "markdown",
   "id": "2c06083a",
   "metadata": {},
   "source": [
    "### How many unique methods are there?"
   ]
  },
  {
   "cell_type": "code",
   "execution_count": 11,
   "id": "8ed9af28",
   "metadata": {
    "scrolled": true
   },
   "outputs": [
    {
     "name": "stdout",
     "output_type": "stream",
     "text": [
      "There are 10 unique methods which are ['Radial Velocity' 'Imaging' 'Eclipse Timing Variations' 'Transit'\n",
      " 'Astrometry' 'Transit Timing Variations' 'Orbital Brightness Modulation'\n",
      " 'Microlensing' 'Pulsar Timing' 'Pulsation Timing Variations'].\n"
     ]
    }
   ],
   "source": [
    "# your code here\n",
    "print(f\"There are {len(df['method'].unique())} unique methods which are {df['method'].unique()}.\")"
   ]
  },
  {
   "cell_type": "markdown",
   "id": "e9bdaa4e",
   "metadata": {},
   "source": [
    "### What is the number of data collected in each year?"
   ]
  },
  {
   "cell_type": "code",
   "execution_count": 22,
   "id": "ffa7ef08",
   "metadata": {},
   "outputs": [
    {
     "name": "stdout",
     "output_type": "stream",
     "text": [
      "In 2006, 31 data collected.\n",
      "In 2008, 74 data collected.\n",
      "In 2011, 185 data collected.\n",
      "In 2007, 53 data collected.\n",
      "In 2009, 98 data collected.\n",
      "In 2002, 32 data collected.\n",
      "In 1996, 6 data collected.\n",
      "In 2010, 102 data collected.\n",
      "In 2001, 12 data collected.\n",
      "In 1995, 1 data collected.\n",
      "In 2004, 26 data collected.\n",
      "In 2012, 140 data collected.\n",
      "In 2013, 118 data collected.\n",
      "In 2005, 39 data collected.\n",
      "In 2000, 16 data collected.\n",
      "In 2003, 25 data collected.\n",
      "In 1997, 1 data collected.\n",
      "In 1999, 15 data collected.\n",
      "In 2014, 52 data collected.\n",
      "In 1998, 5 data collected.\n",
      "In 1989, 1 data collected.\n",
      "In 1992, 2 data collected.\n",
      "In 1994, 1 data collected.\n"
     ]
    }
   ],
   "source": [
    "# your code here\n",
    "for i in df[\"year\"].unique():\n",
    "    print(f\"In {i}, {len(df.loc[df['year'] == i])} data collected.\")"
   ]
  },
  {
   "cell_type": "markdown",
   "id": "0a33b3f9",
   "metadata": {},
   "source": [
    "### Which columns have missing values and how many?"
   ]
  },
  {
   "cell_type": "code",
   "execution_count": 13,
   "id": "508a1634",
   "metadata": {},
   "outputs": [
    {
     "name": "stdout",
     "output_type": "stream",
     "text": [
      " Column 'orbital_period' has 43 missing values.\n",
      " Column 'mass' has 522 missing values.\n",
      " Column 'distance' has 227 missing values.\n"
     ]
    }
   ],
   "source": [
    "# your code here\n",
    "for i in df.columns[df.isnull().any()].to_list():\n",
    "    print(f\" Column '{i}' has {df[i].isnull().sum()} missing values.\")"
   ]
  },
  {
   "cell_type": "markdown",
   "id": "72df4975",
   "metadata": {},
   "source": [
    "### Write docstring for the function below."
   ]
  },
  {
   "cell_type": "code",
   "execution_count": 53,
   "id": "b0673a62",
   "metadata": {},
   "outputs": [],
   "source": [
    "def do_something(x, y, z):\n",
    "    \"\"\"\n",
    "    Perform and return the result of the following operation on three input values (x, y ,z):\n",
    "\n",
    "    1/(1/x + 1/y + 1/z)\n",
    "\n",
    "    Note:\n",
    "\n",
    "    Ensure that none of the input values (x, y, z) is zero to avoid\n",
    "    ZeroDivisionError.\n",
    "    \"\"\"   \n",
    "\n",
    "    result = 1 / x + 1 / y + 1 / z\n",
    "\n",
    "    return 1 / result"
   ]
  },
  {
   "cell_type": "markdown",
   "id": "aed70411",
   "metadata": {},
   "source": [
    "### Get (print) the docstring of the function defined above."
   ]
  },
  {
   "cell_type": "code",
   "execution_count": 54,
   "id": "03f0a762",
   "metadata": {},
   "outputs": [
    {
     "name": "stdout",
     "output_type": "stream",
     "text": [
      "\n",
      "    Perform and return the result of the following operation on three input values (x, y ,z):\n",
      "\n",
      "    1/(1/x + 1/y + 1/z)\n",
      "\n",
      "    Note:\n",
      "\n",
      "    Ensure that none of the input values (x, y, z) is zero to avoid\n",
      "    ZeroDivisionError.\n",
      "    \n"
     ]
    }
   ],
   "source": [
    "# your code here\n",
    "def doc(func):\n",
    "    print(func.__doc__)\n",
    "doc(do_something)"
   ]
  },
  {
   "cell_type": "markdown",
   "id": "6d589ed4",
   "metadata": {},
   "source": [
    "### Call do_something function for the (11,13,15) values and save it as result"
   ]
  },
  {
   "cell_type": "code",
   "execution_count": 16,
   "id": "692059e2",
   "metadata": {},
   "outputs": [],
   "source": [
    "# your code here\n",
    "result = do_something(11, 13, 15)"
   ]
  },
  {
   "cell_type": "markdown",
   "id": "3d393de9",
   "metadata": {},
   "source": [
    "### In the variable 's' containing a sentence, extract the word using result defined above as index"
   ]
  },
  {
   "cell_type": "code",
   "execution_count": 17,
   "id": "8b6a6772",
   "metadata": {},
   "outputs": [
    {
     "name": "stdout",
     "output_type": "stream",
     "text": [
      "and\n"
     ]
    }
   ],
   "source": [
    "s = \"I love Machine Learning and Deep Learning\"\n",
    "\n",
    "# use int() to convert the result to integer\n",
    "# your code here\n",
    "result = int(result)\n",
    "s = s.split(\" \")\n",
    "print(s[result])\n"
   ]
  },
  {
   "cell_type": "markdown",
   "id": "a70cf967",
   "metadata": {},
   "source": [
    "### Sort the given array below, do not use built in functions. All sorting methods are allowed."
   ]
  },
  {
   "cell_type": "code",
   "execution_count": 18,
   "id": "6faa9e7a",
   "metadata": {},
   "outputs": [
    {
     "name": "stdout",
     "output_type": "stream",
     "text": [
      "[86, 52, 58, 13, 100, 52, 53, 85, 31, 75]\n",
      "[13, 31, 52, 52, 53, 58, 75, 85, 86, 100]\n"
     ]
    }
   ],
   "source": [
    "import random\n",
    "\n",
    "arr = [random.randint(1, 100) for i in range(10)]\n",
    "\n",
    "# your code here\n",
    "print(arr)\n",
    "j = 0\n",
    "while j < 9:\n",
    "    if arr[j+1] < arr[j]:\n",
    "        temp = arr[j]\n",
    "        arr[j] = arr[j+1]\n",
    "        arr[j+1] = temp\n",
    "        j = 0\n",
    "    else:\n",
    "        j += 1 \n",
    "\n",
    "print(arr)\n",
    "        "
   ]
  },
  {
   "cell_type": "markdown",
   "id": "96d09746",
   "metadata": {},
   "source": [
    "### define a recursive function to calculate input numbers factorial named factorial"
   ]
  },
  {
   "cell_type": "code",
   "execution_count": 19,
   "id": "ac9a18f8",
   "metadata": {},
   "outputs": [
    {
     "name": "stdout",
     "output_type": "stream",
     "text": [
      "120\n"
     ]
    }
   ],
   "source": [
    "# your code here\n",
    "def factorial(num):\n",
    "    result = 1\n",
    "    while num > 0:\n",
    "        result *= num\n",
    "        num -= 1\n",
    "    return result\n",
    "print(factorial(5))"
   ]
  },
  {
   "cell_type": "markdown",
   "id": "5ebf772b",
   "metadata": {},
   "source": [
    "### define a function to merge the given arrays and calculate the median named twoMedian"
   ]
  },
  {
   "cell_type": "code",
   "execution_count": 52,
   "id": "c58fe689",
   "metadata": {
    "scrolled": true
   },
   "outputs": [
    {
     "name": "stdout",
     "output_type": "stream",
     "text": [
      "4.0\n"
     ]
    }
   ],
   "source": [
    "# your code here\n",
    "def twoMedian(array1, array2):\n",
    "    merged_array = np.concatenate((array1,array2), axis = 0)\n",
    "    median_of_array = np.median(merged_array, axis=0)\n",
    "    return median_of_array\n",
    "print(twoMedian(np.array([1,2,3,4,5,6]), np.array([1,3,5,7,9])))"
   ]
  }
 ],
 "metadata": {
  "kernelspec": {
   "display_name": "Python 3 (ipykernel)",
   "language": "python",
   "name": "python3"
  },
  "language_info": {
   "codemirror_mode": {
    "name": "ipython",
    "version": 3
   },
   "file_extension": ".py",
   "mimetype": "text/x-python",
   "name": "python",
   "nbconvert_exporter": "python",
   "pygments_lexer": "ipython3",
   "version": "3.11.4"
  }
 },
 "nbformat": 4,
 "nbformat_minor": 5
}
